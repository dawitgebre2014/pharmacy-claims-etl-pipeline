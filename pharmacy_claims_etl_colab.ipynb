{
 "cells": [
  {
   "cell_type": "markdown",
   "id": "231026d8",
   "metadata": {},
   "source": [
    "# Pharmacy Claims ETL – Python & SQL Comparison\n",
    "This notebook simulates a Databricks-style ETL pipeline using Python (Pandas) and shows the equivalent SQL logic."
   ]
  },
  {
   "cell_type": "code",
   "execution_count": null,
   "id": "592d6862",
   "metadata": {},
   "outputs": [],
   "source": [
    "import pandas as pd"
   ]
  },
  {
   "cell_type": "markdown",
   "id": "695b5731",
   "metadata": {},
   "source": [
    "## 🔽 Load Synthetic Claims Data"
   ]
  },
  {
   "cell_type": "code",
   "execution_count": null,
   "id": "486b28ee",
   "metadata": {},
   "outputs": [],
   "source": [
    "df = pd.read_csv('claims_raw.csv', parse_dates=['claim_date'])\n",
    "df.head()"
   ]
  },
  {
   "cell_type": "markdown",
   "id": "b8e9efb4",
   "metadata": {},
   "source": [
    "## ⚙️ Python ETL Logic (Simulating Databricks Job)"
   ]
  },
  {
   "cell_type": "code",
   "execution_count": null,
   "id": "d6cc81e1",
   "metadata": {},
   "outputs": [],
   "source": [
    "# Filter paid claims\n",
    "df_paid = df[df['claim_status'] == 'Paid'].copy()\n",
    "\n",
    "# Create derived columns\n",
    "df_paid['claim_month'] = df_paid['claim_date'].dt.to_period('M').astype(str)\n",
    "df_paid['high_cost_flag'] = df_paid['claim_cost'] > 100\n",
    "\n",
    "# Group and summarize\n",
    "summary = df_paid.groupby(['claim_month', 'drug_code']).agg(\n",
    "    total_claims=('claim_id', 'count'),\n",
    "    total_cost=('claim_cost', 'sum'),\n",
    "    avg_cost=('claim_cost', 'mean'),\n",
    "    high_cost_count=('high_cost_flag', 'sum')\n",
    ").reset_index()\n",
    "summary"
   ]
  },
  {
   "cell_type": "markdown",
   "id": "521ed2bc",
   "metadata": {},
   "source": [
    "## 🧾 Equivalent SQL Logic"
   ]
  },
  {
   "cell_type": "markdown",
   "id": "d3e8227c",
   "metadata": {},
   "source": [
    "```sql\n",
    "-- Step 1: Filter to only paid claims\n",
    "WITH paid_claims AS (\n",
    "    SELECT *\n",
    "    FROM claims_raw\n",
    "    WHERE claim_status = 'Paid'\n",
    "),\n",
    "\n",
    "-- Step 2: Add derived columns (claim_month, high_cost_flag)\n",
    "derived_claims AS (\n",
    "    SELECT *,\n",
    "           FORMAT(claim_date, 'yyyy-MM') AS claim_month,\n",
    "           CASE WHEN claim_cost > 100 THEN 1 ELSE 0 END AS high_cost_flag\n",
    "    FROM paid_claims\n",
    ")\n",
    "\n",
    "-- Step 3: Aggregate summary\n",
    "SELECT \n",
    "    claim_month,\n",
    "    drug_code,\n",
    "    COUNT(claim_id) AS total_claims,\n",
    "    SUM(claim_cost) AS total_cost,\n",
    "    AVG(claim_cost) AS avg_cost,\n",
    "    SUM(high_cost_flag) AS high_cost_count\n",
    "FROM derived_claims\n",
    "GROUP BY claim_month, drug_code\n",
    "ORDER BY claim_month, drug_code;\n",
    "```"
   ]
  }
 ],
 "metadata": {},
 "nbformat": 4,
 "nbformat_minor": 5
}
